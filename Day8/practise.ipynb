{
 "cells": [
  {
   "cell_type": "code",
   "execution_count": 14,
   "metadata": {},
   "outputs": [
    {
     "name": "stdout",
     "output_type": "stream",
     "text": [
      "my name is :abhithrtyjh\n"
     ]
    }
   ],
   "source": [
    "def inputFunction(x):\n",
    "    print(\"my name is :\"+ x )\n",
    "\n",
    "inputFunction(\"abhithrtyjh\")\n"
   ]
  },
  {
   "cell_type": "code",
   "execution_count": 16,
   "metadata": {},
   "outputs": [
    {
     "name": "stdout",
     "output_type": "stream",
     "text": [
      "my name is 2021\n",
      "my roll number is abhi\n"
     ]
    }
   ],
   "source": [
    "def details(name ,roll):\n",
    "    print(\"my name is \"+ name)\n",
    "    print(\"my roll number is \"+ roll)\n",
    "\n",
    "details(roll = \"abhi\",name = \"2021\")"
   ]
  },
  {
   "cell_type": "code",
   "execution_count": null,
   "metadata": {},
   "outputs": [],
   "source": []
  }
 ],
 "metadata": {
  "kernelspec": {
   "display_name": "Python 3",
   "language": "python",
   "name": "python3"
  },
  "language_info": {
   "codemirror_mode": {
    "name": "ipython",
    "version": 3
   },
   "file_extension": ".py",
   "mimetype": "text/x-python",
   "name": "python",
   "nbconvert_exporter": "python",
   "pygments_lexer": "ipython3",
   "version": "3.11.9"
  }
 },
 "nbformat": 4,
 "nbformat_minor": 2
}
