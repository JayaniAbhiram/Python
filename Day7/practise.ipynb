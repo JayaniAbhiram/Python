{
 "cells": [
  {
   "cell_type": "code",
   "execution_count": 25,
   "metadata": {},
   "outputs": [],
   "source": [
    "import random"
   ]
  },
  {
   "cell_type": "code",
   "execution_count": 24,
   "metadata": {},
   "outputs": [],
   "source": [
    "word_list = [\"aardvark\", \"baboon\", \"camel\"]"
   ]
  },
  {
   "cell_type": "code",
   "execution_count": 46,
   "metadata": {},
   "outputs": [
    {
     "name": "stdout",
     "output_type": "stream",
     "text": [
      "aardvark\n",
      "_\n",
      "['a']\n",
      "_\n",
      "['a']\n",
      "_\n",
      "['r']\n",
      "_\n",
      "['d']\n",
      "_\n",
      "['v']\n",
      "_\n",
      "['a']\n",
      "_\n",
      "['r']\n",
      "_\n",
      "['k']\n"
     ]
    }
   ],
   "source": [
    "\n",
    "randomGuess = random.choice(word_list)\n",
    "print(randomGuess)\n",
    "\n",
    "for blank in randomGuess:\n",
    "    print(\"_\")\n",
    "    blankList = list(blank)\n",
    "    print(blankList)\n",
    "\n"
   ]
  },
  {
   "cell_type": "code",
   "execution_count": 34,
   "metadata": {},
   "outputs": [],
   "source": [
    "guess = input(\"Guess a letter: \").lower()"
   ]
  },
  {
   "cell_type": "code",
   "execution_count": 35,
   "metadata": {},
   "outputs": [
    {
     "name": "stdout",
     "output_type": "stream",
     "text": [
      "present\n",
      "try other\n",
      "present\n",
      "try other\n",
      "try other\n",
      "try other\n"
     ]
    }
   ],
   "source": [
    "for letter in randomGuess:\n",
    "    if letter == guess:\n",
    "        print(\"present\")\n",
    "    else:\n",
    "        print(\"try other\")\n"
   ]
  },
  {
   "cell_type": "code",
   "execution_count": null,
   "metadata": {},
   "outputs": [],
   "source": [
    "for i in "
   ]
  }
 ],
 "metadata": {
  "kernelspec": {
   "display_name": "Python 3",
   "language": "python",
   "name": "python3"
  },
  "language_info": {
   "codemirror_mode": {
    "name": "ipython",
    "version": 3
   },
   "file_extension": ".py",
   "mimetype": "text/x-python",
   "name": "python",
   "nbconvert_exporter": "python",
   "pygments_lexer": "ipython3",
   "version": "3.11.9"
  }
 },
 "nbformat": 4,
 "nbformat_minor": 2
}
